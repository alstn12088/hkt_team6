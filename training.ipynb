{
 "cells": [
  {
   "cell_type": "code",
   "execution_count": 45,
   "id": "5db90716-36df-443a-b922-519da74ddcf2",
   "metadata": {},
   "outputs": [],
   "source": [
    "import pandas as pd\n",
    "import numpy as np"
   ]
  },
  {
   "cell_type": "code",
   "execution_count": 46,
   "id": "8989c163-ff0e-49bf-bc38-3357e7fa0c00",
   "metadata": {},
   "outputs": [],
   "source": [
    "# Your list of column names\n",
    "df_feat = pd.read_csv('hkt_data/features.csv', encoding='euc-kr')\n",
    "\n",
    "features = df_feat.to_numpy().reshape(-1).tolist()\n",
    "#targets = ['Weight_LWM_STD_WGT', 'Weight_MRM_WGT','Weight_STD_WGT','Weight_UPM_STD_WGT']\n",
    "\n",
    "targets = ['gt_LWM_STD_WGT', 'gt_MRM_WGT','gt_STD_WGT','gt_UPM_STD_WGT']\n",
    "df_data = pd.read_csv('hkt_data/2301_2306_data_1.csv', encoding='euc-kr')\n",
    "df = df_data[features]\n",
    "df_targets = df_data[targets]\n"
   ]
  },
  {
   "cell_type": "code",
   "execution_count": 47,
   "id": "9788e14a-aef8-438d-84fd-1dc78126c6db",
   "metadata": {},
   "outputs": [],
   "source": [
    "# Task 2: Normalize columns using min-max scaling\n",
    "df_x = (df - df.min()) / (df.max() - df.min())\n",
    "\n",
    "# Task 3: Renormalize a new value x using the same scaling parameters\n",
    "def renormalize_back(x_normalized):\n",
    "    return x_normalized * (df.max() - df.min()) + df.min()\n",
    "\n"
   ]
  },
  {
   "cell_type": "code",
   "execution_count": 48,
   "id": "fb5be101-2581-4b05-b24d-47ffe7e79099",
   "metadata": {},
   "outputs": [],
   "source": [
    "# Define the scoring function\n",
    "# def calculate_score(row):\n",
    "#     # Condition for X4 <= X1 <= X3\n",
    "#     if row['Weight_LWM_STD_WGT'] <= row['Weight_MRM_WGT'] <= row['Weight_UPM_STD_WGT']:\n",
    "#         # Calculate similarity to X2 (higher similarity -> higher score)\n",
    "#         similarity_score = 1 - abs(row['Weight_MRM_WGT'] - row['Weight_STD_WGT']) / max(row['Weight_MRM_WGT'], row['Weight_STD_WGT'])\n",
    "#         return similarity_score\n",
    "#     else:\n",
    "#         return 0  # Outside the desired range, score is 0\n",
    "from math import exp\n",
    "\n",
    "#temp = 0.3\n",
    "\n",
    "# a = 'Weight_LWM_STD_WGT'\n",
    "# b = 'Weight_UPM_STD_WGT'\n",
    "x = 'gt_MRM_WGT'\n",
    "# x_star = 'Weight_STD_WGT'\n",
    "# k1 = 0.3\n",
    "# k2 = 0.3\n",
    "def calculate_score(row):\n",
    "\n",
    "    # loss = abs(row[x] - row[x_star])/(row[b]-row[a]) - k1*min((row[b] - row[x])/(row[b]-row[a]),1) - k2*min((row[x] - row[a])/(row[b]-row[a]),1) \n",
    "    \n",
    "    # score = 1/(1+exp(loss/temp))\n",
    "    score = row[x]\n",
    "    return score\n",
    "\n",
    "\n",
    "# Apply the scoring function to create the 'Y' column\n",
    "df_y= df_targets.apply(calculate_score, axis=1)\n",
    "\n"
   ]
  },
  {
   "cell_type": "code",
   "execution_count": 49,
   "id": "631457cd-2629-4ff1-8735-d6adf11aa4dd",
   "metadata": {},
   "outputs": [
    {
     "name": "stderr",
     "output_type": "stream",
     "text": [
      "/home/as12088/anaconda3/envs/hkt/lib/python3.9/site-packages/torch/nn/modules/loss.py:536: UserWarning: Using a target size (torch.Size([256])) that is different to the input size (torch.Size([256, 1])). This will likely lead to incorrect results due to broadcasting. Please ensure they have the same size.\n",
      "  return F.mse_loss(input, target, reduction=self.reduction)\n",
      "/home/as12088/anaconda3/envs/hkt/lib/python3.9/site-packages/torch/nn/modules/loss.py:536: UserWarning: Using a target size (torch.Size([3])) that is different to the input size (torch.Size([3, 1])). This will likely lead to incorrect results due to broadcasting. Please ensure they have the same size.\n",
      "  return F.mse_loss(input, target, reduction=self.reduction)\n",
      "/home/as12088/anaconda3/envs/hkt/lib/python3.9/site-packages/torch/nn/modules/loss.py:536: UserWarning: Using a target size (torch.Size([148])) that is different to the input size (torch.Size([148, 1])). This will likely lead to incorrect results due to broadcasting. Please ensure they have the same size.\n",
      "  return F.mse_loss(input, target, reduction=self.reduction)\n"
     ]
    },
    {
     "name": "stdout",
     "output_type": "stream",
     "text": [
      "Epoch [1/100], Train Loss: 105.2367, Validation Loss: 68.7656\n",
      "Epoch [2/100], Train Loss: 30.2944, Validation Loss: 11.5473\n",
      "Epoch [3/100], Train Loss: 1.6745, Validation Loss: 2.1682\n",
      "Epoch [4/100], Train Loss: 0.3753, Validation Loss: 2.0193\n",
      "Epoch [5/100], Train Loss: 0.3430, Validation Loss: 1.9530\n",
      "Epoch [6/100], Train Loss: 0.3065, Validation Loss: 1.8876\n",
      "Epoch [7/100], Train Loss: 0.2634, Validation Loss: 1.7791\n",
      "Epoch [8/100], Train Loss: 0.2161, Validation Loss: 1.5787\n",
      "Epoch [9/100], Train Loss: 0.1671, Validation Loss: 1.3322\n",
      "Epoch [10/100], Train Loss: 0.1272, Validation Loss: 1.0316\n",
      "Training finished!\n"
     ]
    }
   ],
   "source": [
    "import torch\n",
    "import torch.nn as nn\n",
    "import torch.optim as optim\n",
    "from sklearn.model_selection import train_test_split\n",
    "\n",
    "# Assume you have df_x and df_y DataFrames\n",
    "\n",
    "# Split data into train, valid, and test sets\n",
    "# x_train, x_temp, y_train, y_temp = train_test_split(df_x, df_y, test_size=0.3, random_state=42)\n",
    "# x_valid, x_test, y_valid, y_test = train_test_split(x_temp, y_temp, test_size=0.5, random_state=42)\n",
    "\n",
    "\n",
    "threshold = int(len(df_x) * 0.7)\n",
    "\n",
    "x_train = df_x[:threshold]\n",
    "y_train = df_y[:threshold]\n",
    "\n",
    "x_valid = df_x[threshold:]\n",
    "y_valid = df_y[threshold:]\n",
    "\n",
    "\n",
    "# Convert pandas DataFrames to PyTorch tensors\n",
    "x_train_tensor = torch.tensor(x_train.values, dtype=torch.float32)\n",
    "y_train_tensor = torch.tensor(y_train.values, dtype=torch.float32)\n",
    "x_valid_tensor = torch.tensor(x_valid.values, dtype=torch.float32)\n",
    "y_valid_tensor = torch.tensor(y_valid.values, dtype=torch.float32)\n",
    "# x_test_tensor = torch.tensor(x_test.values, dtype=torch.float32)\n",
    "# y_test_tensor = torch.tensor(y_test.values, dtype=torch.float32)\n",
    "\n",
    "\n",
    "# Define custom Dataset class\n",
    "class CustomDataset(torch.utils.data.Dataset):\n",
    "    def __init__(self, x_tensor, y_tensor):\n",
    "        self.x = x_tensor\n",
    "        self.y = y_tensor\n",
    "\n",
    "    def __len__(self):\n",
    "        return len(self.x)\n",
    "\n",
    "    def __getitem__(self, idx):\n",
    "        return self.x[idx], self.y[idx]\n",
    "\n",
    "# Create DataLoader objects\n",
    "batch_size = 256\n",
    "train_dataset = CustomDataset(x_train_tensor, y_train_tensor)\n",
    "train_loader = torch.utils.data.DataLoader(train_dataset, batch_size=batch_size, shuffle=True)\n",
    "\n",
    "valid_dataset = CustomDataset(x_valid_tensor, y_valid_tensor)\n",
    "valid_loader = torch.utils.data.DataLoader(valid_dataset, batch_size=batch_size, shuffle=True)\n",
    "\n",
    "\n",
    "# Initialize the model and move it to a specific GPU (cuda:0)\n",
    "device = torch.device(\"cuda:0\" if torch.cuda.is_available() else \"cpu\")\n",
    "model = MLPRegression(input_dim, hidden_dim, output_dim).to(device)\n",
    "\n",
    "# Move the loss function to the same device\n",
    "criterion = nn.MSELoss().to(device)\n",
    "\n",
    "# Define the optimizer (still on the CPU)\n",
    "optimizer = optim.Adam(model.parameters(), lr=learning_rate, weight_decay=1e-3)\n",
    "\n",
    "# ... (previous code)\n",
    "\n",
    "# Validation loop\n",
    "for epoch in range(10):\n",
    "    model.train()  # Set the model to training mode\n",
    "    total_loss = 0\n",
    "    \n",
    "    for batch_x, batch_y in train_loader:\n",
    "        batch_x, batch_y = batch_x.to(device), batch_y.to(device)\n",
    "        \n",
    "        optimizer.zero_grad()  # Zero the gradients\n",
    "        \n",
    "        # Forward pass\n",
    "        outputs = model(batch_x)\n",
    "        \n",
    "        # Calculate the loss\n",
    "        loss = criterion(outputs, batch_y)\n",
    "        # Backpropagation\n",
    "        loss.backward()\n",
    "        \n",
    "        # Update the weights\n",
    "        optimizer.step()\n",
    "        \n",
    "        total_loss += loss.item()\n",
    "    \n",
    "    avg_train_loss = total_loss / len(train_loader)\n",
    "    \n",
    "    # Validation loop\n",
    "    model.eval()  # Set the model to evaluation mode\n",
    "    total_val_loss = 0\n",
    "\n",
    "    with torch.no_grad():\n",
    "        for batch_x, batch_y in valid_loader:\n",
    "            batch_x, batch_y = batch_x.to(device), batch_y.to(device)\n",
    "            \n",
    "            outputs = model(batch_x)\n",
    "            val_loss = criterion(outputs, batch_y)\n",
    "            total_val_loss += val_loss.item()\n",
    "    \n",
    "    avg_val_loss = total_val_loss / len(valid_loader)\n",
    "    \n",
    "    print(f\"Epoch [{epoch+1}/{num_epochs}], Train Loss: {avg_train_loss:.4f}, Validation Loss: {avg_val_loss:.4f}\")\n",
    "\n",
    "print(\"Training finished!\")\n",
    "\n",
    "# You can then evaluate the model using test data if needed."
   ]
  },
  {
   "cell_type": "code",
   "execution_count": 31,
   "id": "b77c868c-4731-4c7a-a0e7-de105b916394",
   "metadata": {},
   "outputs": [
    {
     "name": "stdout",
     "output_type": "stream",
     "text": [
      "Linear Regression Validation MSE: 0.0407\n"
     ]
    }
   ],
   "source": [
    "from sklearn.linear_model import LinearRegression\n",
    "from sklearn.ensemble import RandomForestRegressor\n",
    "from sklearn.metrics import mean_squared_error\n",
    "\n",
    "# Linear Regression model\n",
    "linear_model = LinearRegression()\n",
    "linear_model.fit(x_train, y_train)\n",
    "linear_preds = linear_model.predict(x_valid)\n",
    "linear_mse = mean_squared_error(y_valid, linear_preds)\n",
    "print(f\"Linear Regression Validation MSE: {linear_mse:.4f}\")"
   ]
  },
  {
   "cell_type": "code",
   "execution_count": 32,
   "id": "ac49a443-7d24-4d95-be83-8c715b7c4b2a",
   "metadata": {},
   "outputs": [
    {
     "name": "stdout",
     "output_type": "stream",
     "text": [
      "Ridge Regression Validation MSE: 0.0385\n"
     ]
    }
   ],
   "source": [
    "from sklearn.linear_model import Ridge\n",
    "\n",
    "ridge_model = Ridge(alpha=1.0)  # You can adjust the regularization strength (alpha)\n",
    "ridge_model.fit(x_train, y_train)\n",
    "ridge_preds = ridge_model.predict(x_valid)\n",
    "ridge_mse = mean_squared_error(y_valid, ridge_preds)\n",
    "print(f\"Ridge Regression Validation MSE: {ridge_mse:.4f}\")"
   ]
  },
  {
   "cell_type": "code",
   "execution_count": 35,
   "id": "419cb83f-625e-45be-b96f-3ef30a99ed28",
   "metadata": {},
   "outputs": [
    {
     "name": "stdout",
     "output_type": "stream",
     "text": [
      "XGB Regression Validation MSE: 0.0385\n"
     ]
    }
   ],
   "source": [
    "from xgboost.sklearn import XGBClassifier, XGBRegressor\n",
    "\n",
    "XGB_model = XGBRegressor(\n",
    "            n_estimators=100, ## 붓스트랩 샘플 개수 또는 base_estimator 개수\n",
    "            max_depth=10, ## 개별 나무의 최대 깊이\n",
    "            gamma = 0, ## gamma\n",
    "            importance_type='gain', ## gain, weight, cover, total_gain, total_cover\n",
    "            reg_lambda = 1, ## tuning parameter of l2 penalty\n",
    "            random_state=100\n",
    "        )\n",
    "\n",
    "XGB_model.fit(x_train,y_train)\n",
    "\n",
    "XGB_preds = XGB_model.predict(x_valid)\n",
    "XGB_mse = mean_squared_error(y_valid, XGB_preds)\n",
    "print(f\"XGB Regression Validation MSE: {ridge_mse:.4f}\")\n",
    "\n"
   ]
  },
  {
   "cell_type": "code",
   "execution_count": 36,
   "id": "39c5e9d7-c313-43d9-b1e7-d1b80877ed46",
   "metadata": {},
   "outputs": [
    {
     "name": "stdout",
     "output_type": "stream",
     "text": [
      "Lasso Regression Validation MSE: 0.0229\n"
     ]
    }
   ],
   "source": [
    "from sklearn.linear_model import Lasso\n",
    "\n",
    "lasso_model = Lasso(alpha=1.0)  # You can adjust the regularization strength (alpha)\n",
    "lasso_model.fit(x_train, y_train)\n",
    "lasso_preds = lasso_model.predict(x_valid)\n",
    "lasso_mse = mean_squared_error(y_valid, lasso_preds)\n",
    "print(f\"Lasso Regression Validation MSE: {lasso_mse:.4f}\")"
   ]
  },
  {
   "cell_type": "code",
   "execution_count": 37,
   "id": "01e8cac5-eadb-4ca5-a8fc-fc7104007ab5",
   "metadata": {},
   "outputs": [
    {
     "name": "stdout",
     "output_type": "stream",
     "text": [
      "Elastic Net Regression Validation MSE: 0.0229\n"
     ]
    }
   ],
   "source": [
    "from sklearn.linear_model import ElasticNet\n",
    "\n",
    "elasticnet_model = ElasticNet(alpha=1.0, l1_ratio=0.5)  # Adjust alpha and l1_ratio\n",
    "elasticnet_model.fit(x_train, y_train)\n",
    "elasticnet_preds = elasticnet_model.predict(x_valid)\n",
    "elasticnet_mse = mean_squared_error(y_valid, elasticnet_preds)\n",
    "print(f\"Elastic Net Regression Validation MSE: {elasticnet_mse:.4f}\")"
   ]
  },
  {
   "cell_type": "code",
   "execution_count": 38,
   "id": "ff5d549a-e05a-48f9-8fc2-593042383901",
   "metadata": {},
   "outputs": [
    {
     "name": "stdout",
     "output_type": "stream",
     "text": [
      "SVR Validation MSE: 0.0424\n"
     ]
    }
   ],
   "source": [
    "from sklearn.svm import SVR\n",
    "\n",
    "svr_model = SVR(kernel='linear', C=1.0)  # Adjust the kernel and regularization parameter (C)\n",
    "svr_model.fit(x_train, y_train)\n",
    "svr_preds = svr_model.predict(x_valid)\n",
    "svr_mse = mean_squared_error(y_valid, svr_preds)\n",
    "print(f\"SVR Validation MSE: {svr_mse:.4f}\")"
   ]
  },
  {
   "cell_type": "code",
   "execution_count": 39,
   "id": "85fb11ad-8f35-41c5-bda7-e1a2cc1b5016",
   "metadata": {},
   "outputs": [
    {
     "name": "stdout",
     "output_type": "stream",
     "text": [
      "Polynomial SVR Validation MSE: 0.0538\n"
     ]
    }
   ],
   "source": [
    "from sklearn.svm import SVR\n",
    "\n",
    "polynomial_svr = SVR(kernel='poly', degree=3, C=1.0)  # Adjust degree and regularization parameter (C)\n",
    "polynomial_svr.fit(x_train, y_train)\n",
    "polynomial_preds = polynomial_svr.predict(x_valid)\n",
    "polynomial_mse = mean_squared_error(y_valid, polynomial_preds)\n",
    "print(f\"Polynomial SVR Validation MSE: {polynomial_mse:.4f}\")"
   ]
  },
  {
   "cell_type": "code",
   "execution_count": 40,
   "id": "b62bce37-61a0-4f4f-80c9-8d9fdf38032c",
   "metadata": {},
   "outputs": [
    {
     "name": "stdout",
     "output_type": "stream",
     "text": [
      "RBF SVR Validation MSE: 0.0380\n"
     ]
    }
   ],
   "source": [
    "from sklearn.svm import SVR\n",
    "\n",
    "rbf_svr = SVR(kernel='rbf', C=1.0)  # Adjust regularization parameter (C)\n",
    "rbf_svr.fit(x_train, y_train)\n",
    "rbf_preds = rbf_svr.predict(x_valid)\n",
    "rbf_mse = mean_squared_error(y_valid, rbf_preds)\n",
    "print(f\"RBF SVR Validation MSE: {rbf_mse:.4f}\")"
   ]
  },
  {
   "cell_type": "code",
   "execution_count": 41,
   "id": "ff5af78e-2e10-4f81-a4af-c7d486eca2b4",
   "metadata": {},
   "outputs": [
    {
     "name": "stdout",
     "output_type": "stream",
     "text": [
      "RBF SVR Validation MSE: 0.0388\n"
     ]
    }
   ],
   "source": [
    "from sklearn.svm import SVR\n",
    "\n",
    "rbf_svr = SVR(kernel='rbf', C=2.0)  # Adjust regularization parameter (C)\n",
    "rbf_svr.fit(x_train, y_train)\n",
    "rbf_preds = rbf_svr.predict(x_valid)\n",
    "rbf_mse = mean_squared_error(y_valid, rbf_preds)\n",
    "print(f\"RBF SVR Validation MSE: {rbf_mse:.4f}\")"
   ]
  },
  {
   "cell_type": "code",
   "execution_count": 42,
   "id": "b21b09d3-a2e9-4b2c-be64-502738d016e4",
   "metadata": {},
   "outputs": [
    {
     "name": "stdout",
     "output_type": "stream",
     "text": [
      "RBF SVR Validation MSE: 0.0397\n"
     ]
    }
   ],
   "source": [
    "from sklearn.svm import SVR\n",
    "\n",
    "rbf_svr = SVR(kernel='rbf', C=5.0)  # Adjust regularization parameter (C)\n",
    "rbf_svr.fit(x_train, y_train)\n",
    "rbf_preds = rbf_svr.predict(x_valid)\n",
    "rbf_mse = mean_squared_error(y_valid, rbf_preds)\n",
    "print(f\"RBF SVR Validation MSE: {rbf_mse:.4f}\")"
   ]
  },
  {
   "cell_type": "code",
   "execution_count": 43,
   "id": "1cc71771-b734-44c5-a50c-3b14e826390d",
   "metadata": {},
   "outputs": [
    {
     "name": "stdout",
     "output_type": "stream",
     "text": [
      "Sigmoid SVR Validation MSE: 1005.1925\n"
     ]
    }
   ],
   "source": [
    "from sklearn.svm import SVR\n",
    "\n",
    "sigmoid_svr = SVR(kernel='sigmoid', C=1.0)  # Adjust regularization parameter (C)\n",
    "sigmoid_svr.fit(x_train, y_train)\n",
    "sigmoid_preds = sigmoid_svr.predict(x_valid)\n",
    "sigmoid_mse = mean_squared_error(y_valid, sigmoid_preds)\n",
    "print(f\"Sigmoid SVR Validation MSE: {sigmoid_mse:.4f}\")"
   ]
  },
  {
   "cell_type": "code",
   "execution_count": 44,
   "id": "4d9f4db5-d64c-4738-8979-f640be7c0265",
   "metadata": {},
   "outputs": [
    {
     "name": "stdout",
     "output_type": "stream",
     "text": [
      "[12.35465 12.37165 12.35965 ... 12.1177  12.11235 12.10485]\n",
      "24835    12.39\n",
      "24836    12.31\n",
      "24837    12.31\n",
      "24838    12.32\n",
      "24839    12.32\n",
      "         ...  \n",
      "35474    12.11\n",
      "35475    12.13\n",
      "35476    12.14\n",
      "35477    12.11\n",
      "35478    12.08\n",
      "Length: 10644, dtype: float64\n",
      "Random Forest Regression Validation MSE: 0.0301\n"
     ]
    }
   ],
   "source": [
    "# Random Forest Regression model\n",
    "rf_model = RandomForestRegressor(n_estimators=200, random_state=42)\n",
    "rf_model.fit(x_train, y_train)\n",
    "rf_preds = rf_model.predict(x_valid)\n",
    "rf_mse = mean_squared_error(y_valid, rf_preds)\n",
    "print(rf_preds)\n",
    "print(y_valid)\n",
    "print(f\"Random Forest Regression Validation MSE: {rf_mse:.4f}\")"
   ]
  },
  {
   "cell_type": "code",
   "execution_count": null,
   "id": "1ead5e6a-f834-4255-a368-914fc496cff4",
   "metadata": {},
   "outputs": [],
   "source": [
    "\n"
   ]
  },
  {
   "cell_type": "code",
   "execution_count": 23,
   "id": "8f6f0413-b51a-40ca-92ad-46fba9fbc733",
   "metadata": {},
   "outputs": [
    {
     "ename": "TypeError",
     "evalue": "can't convert cuda:0 device type tensor to numpy. Use Tensor.cpu() to copy the tensor to host memory first.",
     "output_type": "error",
     "traceback": [
      "\u001b[0;31m---------------------------------------------------------------------------\u001b[0m",
      "\u001b[0;31mTypeError\u001b[0m                                 Traceback (most recent call last)",
      "Cell \u001b[0;32mIn[23], line 37\u001b[0m\n\u001b[1;32m     35\u001b[0m \u001b[38;5;66;03m# Create a scatter plot\u001b[39;00m\n\u001b[1;32m     36\u001b[0m plt\u001b[38;5;241m.\u001b[39mfigure(figsize\u001b[38;5;241m=\u001b[39m(\u001b[38;5;241m8\u001b[39m, \u001b[38;5;241m6\u001b[39m))\n\u001b[0;32m---> 37\u001b[0m \u001b[43mplt\u001b[49m\u001b[38;5;241;43m.\u001b[39;49m\u001b[43mscatter\u001b[49m\u001b[43m(\u001b[49m\u001b[43my_valid\u001b[49m\u001b[43m,\u001b[49m\u001b[43m \u001b[49m\u001b[43moutputs\u001b[49m\u001b[43m,\u001b[49m\u001b[43m \u001b[49m\u001b[43mcolor\u001b[49m\u001b[38;5;241;43m=\u001b[39;49m\u001b[38;5;124;43m'\u001b[39;49m\u001b[38;5;124;43mblue\u001b[39;49m\u001b[38;5;124;43m'\u001b[39;49m\u001b[43m,\u001b[49m\u001b[43m \u001b[49m\u001b[43malpha\u001b[49m\u001b[38;5;241;43m=\u001b[39;49m\u001b[38;5;241;43m0.7\u001b[39;49m\u001b[43m,\u001b[49m\u001b[43m \u001b[49m\u001b[43mlabel\u001b[49m\u001b[38;5;241;43m=\u001b[39;49m\u001b[38;5;124;43m'\u001b[39;49m\u001b[38;5;124;43mData Points\u001b[39;49m\u001b[38;5;124;43m'\u001b[39;49m\u001b[43m)\u001b[49m\n\u001b[1;32m     38\u001b[0m plt\u001b[38;5;241m.\u001b[39mplot([min_true, \u001b[38;5;28mmax\u001b[39m(y_valid)], [min_true, \u001b[38;5;28mmax\u001b[39m(y_valid)], color\u001b[38;5;241m=\u001b[39m\u001b[38;5;124m'\u001b[39m\u001b[38;5;124mred\u001b[39m\u001b[38;5;124m'\u001b[39m, linestyle\u001b[38;5;241m=\u001b[39m\u001b[38;5;124m'\u001b[39m\u001b[38;5;124m--\u001b[39m\u001b[38;5;124m'\u001b[39m, label\u001b[38;5;241m=\u001b[39m\u001b[38;5;124m'\u001b[39m\u001b[38;5;124m1:1 Line\u001b[39m\u001b[38;5;124m'\u001b[39m)\n\u001b[1;32m     40\u001b[0m plt\u001b[38;5;241m.\u001b[39mxlabel(\u001b[38;5;124m'\u001b[39m\u001b[38;5;124mTrue Value\u001b[39m\u001b[38;5;124m'\u001b[39m)\n",
      "File \u001b[0;32m~/anaconda3/envs/hkt/lib/python3.9/site-packages/matplotlib/pyplot.py:2862\u001b[0m, in \u001b[0;36mscatter\u001b[0;34m(x, y, s, c, marker, cmap, norm, vmin, vmax, alpha, linewidths, edgecolors, plotnonfinite, data, **kwargs)\u001b[0m\n\u001b[1;32m   2857\u001b[0m \u001b[38;5;129m@_copy_docstring_and_deprecators\u001b[39m(Axes\u001b[38;5;241m.\u001b[39mscatter)\n\u001b[1;32m   2858\u001b[0m \u001b[38;5;28;01mdef\u001b[39;00m \u001b[38;5;21mscatter\u001b[39m(\n\u001b[1;32m   2859\u001b[0m         x, y, s\u001b[38;5;241m=\u001b[39m\u001b[38;5;28;01mNone\u001b[39;00m, c\u001b[38;5;241m=\u001b[39m\u001b[38;5;28;01mNone\u001b[39;00m, marker\u001b[38;5;241m=\u001b[39m\u001b[38;5;28;01mNone\u001b[39;00m, cmap\u001b[38;5;241m=\u001b[39m\u001b[38;5;28;01mNone\u001b[39;00m, norm\u001b[38;5;241m=\u001b[39m\u001b[38;5;28;01mNone\u001b[39;00m,\n\u001b[1;32m   2860\u001b[0m         vmin\u001b[38;5;241m=\u001b[39m\u001b[38;5;28;01mNone\u001b[39;00m, vmax\u001b[38;5;241m=\u001b[39m\u001b[38;5;28;01mNone\u001b[39;00m, alpha\u001b[38;5;241m=\u001b[39m\u001b[38;5;28;01mNone\u001b[39;00m, linewidths\u001b[38;5;241m=\u001b[39m\u001b[38;5;28;01mNone\u001b[39;00m, \u001b[38;5;241m*\u001b[39m,\n\u001b[1;32m   2861\u001b[0m         edgecolors\u001b[38;5;241m=\u001b[39m\u001b[38;5;28;01mNone\u001b[39;00m, plotnonfinite\u001b[38;5;241m=\u001b[39m\u001b[38;5;28;01mFalse\u001b[39;00m, data\u001b[38;5;241m=\u001b[39m\u001b[38;5;28;01mNone\u001b[39;00m, \u001b[38;5;241m*\u001b[39m\u001b[38;5;241m*\u001b[39mkwargs):\n\u001b[0;32m-> 2862\u001b[0m     __ret \u001b[38;5;241m=\u001b[39m \u001b[43mgca\u001b[49m\u001b[43m(\u001b[49m\u001b[43m)\u001b[49m\u001b[38;5;241;43m.\u001b[39;49m\u001b[43mscatter\u001b[49m\u001b[43m(\u001b[49m\n\u001b[1;32m   2863\u001b[0m \u001b[43m        \u001b[49m\u001b[43mx\u001b[49m\u001b[43m,\u001b[49m\u001b[43m \u001b[49m\u001b[43my\u001b[49m\u001b[43m,\u001b[49m\u001b[43m \u001b[49m\u001b[43ms\u001b[49m\u001b[38;5;241;43m=\u001b[39;49m\u001b[43ms\u001b[49m\u001b[43m,\u001b[49m\u001b[43m \u001b[49m\u001b[43mc\u001b[49m\u001b[38;5;241;43m=\u001b[39;49m\u001b[43mc\u001b[49m\u001b[43m,\u001b[49m\u001b[43m \u001b[49m\u001b[43mmarker\u001b[49m\u001b[38;5;241;43m=\u001b[39;49m\u001b[43mmarker\u001b[49m\u001b[43m,\u001b[49m\u001b[43m \u001b[49m\u001b[43mcmap\u001b[49m\u001b[38;5;241;43m=\u001b[39;49m\u001b[43mcmap\u001b[49m\u001b[43m,\u001b[49m\u001b[43m \u001b[49m\u001b[43mnorm\u001b[49m\u001b[38;5;241;43m=\u001b[39;49m\u001b[43mnorm\u001b[49m\u001b[43m,\u001b[49m\n\u001b[1;32m   2864\u001b[0m \u001b[43m        \u001b[49m\u001b[43mvmin\u001b[49m\u001b[38;5;241;43m=\u001b[39;49m\u001b[43mvmin\u001b[49m\u001b[43m,\u001b[49m\u001b[43m \u001b[49m\u001b[43mvmax\u001b[49m\u001b[38;5;241;43m=\u001b[39;49m\u001b[43mvmax\u001b[49m\u001b[43m,\u001b[49m\u001b[43m \u001b[49m\u001b[43malpha\u001b[49m\u001b[38;5;241;43m=\u001b[39;49m\u001b[43malpha\u001b[49m\u001b[43m,\u001b[49m\u001b[43m \u001b[49m\u001b[43mlinewidths\u001b[49m\u001b[38;5;241;43m=\u001b[39;49m\u001b[43mlinewidths\u001b[49m\u001b[43m,\u001b[49m\n\u001b[1;32m   2865\u001b[0m \u001b[43m        \u001b[49m\u001b[43medgecolors\u001b[49m\u001b[38;5;241;43m=\u001b[39;49m\u001b[43medgecolors\u001b[49m\u001b[43m,\u001b[49m\u001b[43m \u001b[49m\u001b[43mplotnonfinite\u001b[49m\u001b[38;5;241;43m=\u001b[39;49m\u001b[43mplotnonfinite\u001b[49m\u001b[43m,\u001b[49m\n\u001b[1;32m   2866\u001b[0m \u001b[43m        \u001b[49m\u001b[38;5;241;43m*\u001b[39;49m\u001b[38;5;241;43m*\u001b[39;49m\u001b[43m(\u001b[49m\u001b[43m{\u001b[49m\u001b[38;5;124;43m\"\u001b[39;49m\u001b[38;5;124;43mdata\u001b[39;49m\u001b[38;5;124;43m\"\u001b[39;49m\u001b[43m:\u001b[49m\u001b[43m \u001b[49m\u001b[43mdata\u001b[49m\u001b[43m}\u001b[49m\u001b[43m \u001b[49m\u001b[38;5;28;43;01mif\u001b[39;49;00m\u001b[43m \u001b[49m\u001b[43mdata\u001b[49m\u001b[43m \u001b[49m\u001b[38;5;129;43;01mis\u001b[39;49;00m\u001b[43m \u001b[49m\u001b[38;5;129;43;01mnot\u001b[39;49;00m\u001b[43m \u001b[49m\u001b[38;5;28;43;01mNone\u001b[39;49;00m\u001b[43m \u001b[49m\u001b[38;5;28;43;01melse\u001b[39;49;00m\u001b[43m \u001b[49m\u001b[43m{\u001b[49m\u001b[43m}\u001b[49m\u001b[43m)\u001b[49m\u001b[43m,\u001b[49m\u001b[43m \u001b[49m\u001b[38;5;241;43m*\u001b[39;49m\u001b[38;5;241;43m*\u001b[39;49m\u001b[43mkwargs\u001b[49m\u001b[43m)\u001b[49m\n\u001b[1;32m   2867\u001b[0m     sci(__ret)\n\u001b[1;32m   2868\u001b[0m     \u001b[38;5;28;01mreturn\u001b[39;00m __ret\n",
      "File \u001b[0;32m~/anaconda3/envs/hkt/lib/python3.9/site-packages/matplotlib/__init__.py:1446\u001b[0m, in \u001b[0;36m_preprocess_data.<locals>.inner\u001b[0;34m(ax, data, *args, **kwargs)\u001b[0m\n\u001b[1;32m   1443\u001b[0m \u001b[38;5;129m@functools\u001b[39m\u001b[38;5;241m.\u001b[39mwraps(func)\n\u001b[1;32m   1444\u001b[0m \u001b[38;5;28;01mdef\u001b[39;00m \u001b[38;5;21minner\u001b[39m(ax, \u001b[38;5;241m*\u001b[39margs, data\u001b[38;5;241m=\u001b[39m\u001b[38;5;28;01mNone\u001b[39;00m, \u001b[38;5;241m*\u001b[39m\u001b[38;5;241m*\u001b[39mkwargs):\n\u001b[1;32m   1445\u001b[0m     \u001b[38;5;28;01mif\u001b[39;00m data \u001b[38;5;129;01mis\u001b[39;00m \u001b[38;5;28;01mNone\u001b[39;00m:\n\u001b[0;32m-> 1446\u001b[0m         \u001b[38;5;28;01mreturn\u001b[39;00m \u001b[43mfunc\u001b[49m\u001b[43m(\u001b[49m\u001b[43max\u001b[49m\u001b[43m,\u001b[49m\u001b[43m \u001b[49m\u001b[38;5;241;43m*\u001b[39;49m\u001b[38;5;28;43mmap\u001b[39;49m\u001b[43m(\u001b[49m\u001b[43msanitize_sequence\u001b[49m\u001b[43m,\u001b[49m\u001b[43m \u001b[49m\u001b[43margs\u001b[49m\u001b[43m)\u001b[49m\u001b[43m,\u001b[49m\u001b[43m \u001b[49m\u001b[38;5;241;43m*\u001b[39;49m\u001b[38;5;241;43m*\u001b[39;49m\u001b[43mkwargs\u001b[49m\u001b[43m)\u001b[49m\n\u001b[1;32m   1448\u001b[0m     bound \u001b[38;5;241m=\u001b[39m new_sig\u001b[38;5;241m.\u001b[39mbind(ax, \u001b[38;5;241m*\u001b[39margs, \u001b[38;5;241m*\u001b[39m\u001b[38;5;241m*\u001b[39mkwargs)\n\u001b[1;32m   1449\u001b[0m     auto_label \u001b[38;5;241m=\u001b[39m (bound\u001b[38;5;241m.\u001b[39marguments\u001b[38;5;241m.\u001b[39mget(label_namer)\n\u001b[1;32m   1450\u001b[0m                   \u001b[38;5;129;01mor\u001b[39;00m bound\u001b[38;5;241m.\u001b[39mkwargs\u001b[38;5;241m.\u001b[39mget(label_namer))\n",
      "File \u001b[0;32m~/anaconda3/envs/hkt/lib/python3.9/site-packages/matplotlib/axes/_axes.py:4576\u001b[0m, in \u001b[0;36mAxes.scatter\u001b[0;34m(self, x, y, s, c, marker, cmap, norm, vmin, vmax, alpha, linewidths, edgecolors, plotnonfinite, **kwargs)\u001b[0m\n\u001b[1;32m   4573\u001b[0m \u001b[38;5;66;03m# np.ma.ravel yields an ndarray, not a masked array,\u001b[39;00m\n\u001b[1;32m   4574\u001b[0m \u001b[38;5;66;03m# unless its argument is a masked array.\u001b[39;00m\n\u001b[1;32m   4575\u001b[0m x \u001b[38;5;241m=\u001b[39m np\u001b[38;5;241m.\u001b[39mma\u001b[38;5;241m.\u001b[39mravel(x)\n\u001b[0;32m-> 4576\u001b[0m y \u001b[38;5;241m=\u001b[39m \u001b[43mnp\u001b[49m\u001b[38;5;241;43m.\u001b[39;49m\u001b[43mma\u001b[49m\u001b[38;5;241;43m.\u001b[39;49m\u001b[43mravel\u001b[49m\u001b[43m(\u001b[49m\u001b[43my\u001b[49m\u001b[43m)\u001b[49m\n\u001b[1;32m   4577\u001b[0m \u001b[38;5;28;01mif\u001b[39;00m x\u001b[38;5;241m.\u001b[39msize \u001b[38;5;241m!=\u001b[39m y\u001b[38;5;241m.\u001b[39msize:\n\u001b[1;32m   4578\u001b[0m     \u001b[38;5;28;01mraise\u001b[39;00m \u001b[38;5;167;01mValueError\u001b[39;00m(\u001b[38;5;124m\"\u001b[39m\u001b[38;5;124mx and y must be the same size\u001b[39m\u001b[38;5;124m\"\u001b[39m)\n",
      "File \u001b[0;32m~/anaconda3/envs/hkt/lib/python3.9/site-packages/numpy/ma/core.py:6870\u001b[0m, in \u001b[0;36m_frommethod.__call__\u001b[0;34m(self, a, *args, **params)\u001b[0m\n\u001b[1;32m   6867\u001b[0m     args \u001b[38;5;241m=\u001b[39m \u001b[38;5;28mlist\u001b[39m(args)\n\u001b[1;32m   6868\u001b[0m     a, args[\u001b[38;5;241m0\u001b[39m] \u001b[38;5;241m=\u001b[39m args[\u001b[38;5;241m0\u001b[39m], a\n\u001b[0;32m-> 6870\u001b[0m marr \u001b[38;5;241m=\u001b[39m \u001b[43masanyarray\u001b[49m\u001b[43m(\u001b[49m\u001b[43ma\u001b[49m\u001b[43m)\u001b[49m\n\u001b[1;32m   6871\u001b[0m method_name \u001b[38;5;241m=\u001b[39m \u001b[38;5;28mself\u001b[39m\u001b[38;5;241m.\u001b[39m\u001b[38;5;18m__name__\u001b[39m\n\u001b[1;32m   6872\u001b[0m method \u001b[38;5;241m=\u001b[39m \u001b[38;5;28mgetattr\u001b[39m(\u001b[38;5;28mtype\u001b[39m(marr), method_name, \u001b[38;5;28;01mNone\u001b[39;00m)\n",
      "File \u001b[0;32m~/anaconda3/envs/hkt/lib/python3.9/site-packages/numpy/ma/core.py:8294\u001b[0m, in \u001b[0;36masanyarray\u001b[0;34m(a, dtype)\u001b[0m\n\u001b[1;32m   8292\u001b[0m \u001b[38;5;28;01mif\u001b[39;00m \u001b[38;5;28misinstance\u001b[39m(a, MaskedArray) \u001b[38;5;129;01mand\u001b[39;00m (dtype \u001b[38;5;129;01mis\u001b[39;00m \u001b[38;5;28;01mNone\u001b[39;00m \u001b[38;5;129;01mor\u001b[39;00m dtype \u001b[38;5;241m==\u001b[39m a\u001b[38;5;241m.\u001b[39mdtype):\n\u001b[1;32m   8293\u001b[0m     \u001b[38;5;28;01mreturn\u001b[39;00m a\n\u001b[0;32m-> 8294\u001b[0m \u001b[38;5;28;01mreturn\u001b[39;00m \u001b[43mmasked_array\u001b[49m\u001b[43m(\u001b[49m\u001b[43ma\u001b[49m\u001b[43m,\u001b[49m\u001b[43m \u001b[49m\u001b[43mdtype\u001b[49m\u001b[38;5;241;43m=\u001b[39;49m\u001b[43mdtype\u001b[49m\u001b[43m,\u001b[49m\u001b[43m \u001b[49m\u001b[43mcopy\u001b[49m\u001b[38;5;241;43m=\u001b[39;49m\u001b[38;5;28;43;01mFalse\u001b[39;49;00m\u001b[43m,\u001b[49m\u001b[43m \u001b[49m\u001b[43mkeep_mask\u001b[49m\u001b[38;5;241;43m=\u001b[39;49m\u001b[38;5;28;43;01mTrue\u001b[39;49;00m\u001b[43m,\u001b[49m\u001b[43m \u001b[49m\u001b[43msubok\u001b[49m\u001b[38;5;241;43m=\u001b[39;49m\u001b[38;5;28;43;01mTrue\u001b[39;49;00m\u001b[43m)\u001b[49m\n",
      "File \u001b[0;32m~/anaconda3/envs/hkt/lib/python3.9/site-packages/numpy/ma/core.py:2820\u001b[0m, in \u001b[0;36mMaskedArray.__new__\u001b[0;34m(cls, data, mask, dtype, copy, subok, ndmin, fill_value, keep_mask, hard_mask, shrink, order)\u001b[0m\n\u001b[1;32m   2811\u001b[0m \u001b[38;5;124;03m\"\"\"\u001b[39;00m\n\u001b[1;32m   2812\u001b[0m \u001b[38;5;124;03mCreate a new masked array from scratch.\u001b[39;00m\n\u001b[1;32m   2813\u001b[0m \n\u001b[0;32m   (...)\u001b[0m\n\u001b[1;32m   2817\u001b[0m \n\u001b[1;32m   2818\u001b[0m \u001b[38;5;124;03m\"\"\"\u001b[39;00m\n\u001b[1;32m   2819\u001b[0m \u001b[38;5;66;03m# Process data.\u001b[39;00m\n\u001b[0;32m-> 2820\u001b[0m _data \u001b[38;5;241m=\u001b[39m \u001b[43mnp\u001b[49m\u001b[38;5;241;43m.\u001b[39;49m\u001b[43marray\u001b[49m\u001b[43m(\u001b[49m\u001b[43mdata\u001b[49m\u001b[43m,\u001b[49m\u001b[43m \u001b[49m\u001b[43mdtype\u001b[49m\u001b[38;5;241;43m=\u001b[39;49m\u001b[43mdtype\u001b[49m\u001b[43m,\u001b[49m\u001b[43m \u001b[49m\u001b[43mcopy\u001b[49m\u001b[38;5;241;43m=\u001b[39;49m\u001b[43mcopy\u001b[49m\u001b[43m,\u001b[49m\n\u001b[1;32m   2821\u001b[0m \u001b[43m                 \u001b[49m\u001b[43morder\u001b[49m\u001b[38;5;241;43m=\u001b[39;49m\u001b[43morder\u001b[49m\u001b[43m,\u001b[49m\u001b[43m \u001b[49m\u001b[43msubok\u001b[49m\u001b[38;5;241;43m=\u001b[39;49m\u001b[38;5;28;43;01mTrue\u001b[39;49;00m\u001b[43m,\u001b[49m\u001b[43m \u001b[49m\u001b[43mndmin\u001b[49m\u001b[38;5;241;43m=\u001b[39;49m\u001b[43mndmin\u001b[49m\u001b[43m)\u001b[49m\n\u001b[1;32m   2822\u001b[0m _baseclass \u001b[38;5;241m=\u001b[39m \u001b[38;5;28mgetattr\u001b[39m(data, \u001b[38;5;124m'\u001b[39m\u001b[38;5;124m_baseclass\u001b[39m\u001b[38;5;124m'\u001b[39m, \u001b[38;5;28mtype\u001b[39m(_data))\n\u001b[1;32m   2823\u001b[0m \u001b[38;5;66;03m# Check that we're not erasing the mask.\u001b[39;00m\n",
      "File \u001b[0;32m~/anaconda3/envs/hkt/lib/python3.9/site-packages/torch/_tensor.py:970\u001b[0m, in \u001b[0;36mTensor.__array__\u001b[0;34m(self, dtype)\u001b[0m\n\u001b[1;32m    968\u001b[0m     \u001b[38;5;28;01mreturn\u001b[39;00m handle_torch_function(Tensor\u001b[38;5;241m.\u001b[39m__array__, (\u001b[38;5;28mself\u001b[39m,), \u001b[38;5;28mself\u001b[39m, dtype\u001b[38;5;241m=\u001b[39mdtype)\n\u001b[1;32m    969\u001b[0m \u001b[38;5;28;01mif\u001b[39;00m dtype \u001b[38;5;129;01mis\u001b[39;00m \u001b[38;5;28;01mNone\u001b[39;00m:\n\u001b[0;32m--> 970\u001b[0m     \u001b[38;5;28;01mreturn\u001b[39;00m \u001b[38;5;28;43mself\u001b[39;49m\u001b[38;5;241;43m.\u001b[39;49m\u001b[43mnumpy\u001b[49m\u001b[43m(\u001b[49m\u001b[43m)\u001b[49m\n\u001b[1;32m    971\u001b[0m \u001b[38;5;28;01melse\u001b[39;00m:\n\u001b[1;32m    972\u001b[0m     \u001b[38;5;28;01mreturn\u001b[39;00m \u001b[38;5;28mself\u001b[39m\u001b[38;5;241m.\u001b[39mnumpy()\u001b[38;5;241m.\u001b[39mastype(dtype, copy\u001b[38;5;241m=\u001b[39m\u001b[38;5;28;01mFalse\u001b[39;00m)\n",
      "\u001b[0;31mTypeError\u001b[0m: can't convert cuda:0 device type tensor to numpy. Use Tensor.cpu() to copy the tensor to host memory first."
     ]
    },
    {
     "data": {
      "image/png": "[encoded data removed]",
      "text/plain": [
       "<Figure size 800x600 with 1 Axes>"
      ]
     },
     "metadata": {},
     "output_type": "display_data"
    }
   ],
   "source": [
    "import numpy as np\n",
    "# \n",
    "def find_pareto_optimal_numpy(X, Y):\n",
    "\n",
    "    pareto_optimal_indices = []\n",
    "    \n",
    "    for i in range(len(X)):\n",
    "        is_pareto = True\n",
    "        for j in range(len(X)):\n",
    "            if i != j and X[j] <= X[i] and Y[j] >= Y[i] and (X[j] < X[i] or Y[j] > Y[i]):\n",
    "                is_pareto = False\n",
    "                break\n",
    "        if is_pareto:\n",
    "            pareto_optimal_indices.append(i)\n",
    "    \n",
    "    pareto_optimal_X = X[pareto_optimal_indices]\n",
    "    pareto_optimal_Y = Y[pareto_optimal_indices]\n",
    "    \n",
    "    return pareto_optimal_X, pareto_optimal_Y\n",
    "\n",
    "# Example NumPy arrays\n",
    "X = np.array(y_valid)\n",
    "Y = outputs\n",
    "\n",
    "import matplotlib.pyplot as plt\n",
    "\n",
    "# Calculate minimum true value and maximum predicted value\n",
    "min_true = min(y_valid)\n",
    "max_pred = max(outputs)\n",
    "\n",
    "# Calculate the point for the Pareto curve\n",
    "parate_x = min_true\n",
    "parate_y = max_pred\n",
    "\n",
    "# Create a scatter plot\n",
    "plt.figure(figsize=(8, 6))\n",
    "plt.scatter(y_valid, outputs, color='blue', alpha=0.7, label='Data Points')\n",
    "plt.plot([min_true, max(y_valid)], [min_true, max(y_valid)], color='red', linestyle='--', label='1:1 Line')\n",
    "\n",
    "plt.xlabel('True Value')\n",
    "plt.ylabel('Predicted Value')\n",
    "\n",
    "\n",
    "\n",
    "pareto_optimal_X, pareto_optimal_Y = find_pareto_optimal_numpy(X, Y)\n",
    "pareto_optimal_points = np.column_stack((pareto_optimal_X, pareto_optimal_Y))\n",
    "pareto_optimal_points = pareto_optimal_points[pareto_optimal_points[:,0].argsort()]\n",
    "\n",
    "# plt.plot(pareto_optimal_points[:,0], pareto_optimal_points[:,1], marker='o', label='Sorted Points')\n",
    "plt.plot(pareto_optimal_points[:,0], pareto_optimal_points[:,1], 'k--', label='worst case')\n",
    "# vertical_line_x = 0.3\n",
    "# vertical_line_y = 0.65\n",
    "# plt.axvline(x=vertical_line_x, color='y', linestyle='--', label='Danger zone')\n",
    "# plt.axhline(y=vertical_line_y, color='c', linestyle='--', label='Query zone')\n",
    "\n",
    "plt.legend()  # Add a legend to distinguish lines\n",
    "plt.show()"
   ]
  },
  {
   "cell_type": "code",
   "execution_count": 27,
   "id": "e16ac185-f35c-44a7-afbc-cd89c53e6514",
   "metadata": {},
   "outputs": [
    {
     "ename": "IndentationError",
     "evalue": "expected an indented block (2941047581.py, line 16)",
     "output_type": "error",
     "traceback": [
      "\u001b[0;36m  Cell \u001b[0;32mIn[27], line 16\u001b[0;36m\u001b[0m\n\u001b[0;31m    pareto_optimal_X = X[pareto_optimal_indices]\u001b[0m\n\u001b[0m    ^\u001b[0m\n\u001b[0;31mIndentationError\u001b[0m\u001b[0;31m:\u001b[0m expected an indented block\n"
     ]
    }
   ],
   "source": [
    "import numpy as np\n",
    "\n",
    "def find_pareto_optimal_numpy(X, Y):\n",
    "\n",
    "    pareto_optimal_indices = []\n",
    "    \n",
    "    for i in range(len(X)):\n",
    "        is_pareto = True\n",
    "        for j in range(len(X)):\n",
    "            if i != j and Y[j] >= Y[i] and X[j] <= X[i] and (Y[j] > Y[i] or X[j] < X[i]):\n",
    "                is_pareto = False\n",
    "                break\n",
    "        if is_pareto:\n",
    "            # pareto_optimal_indices.append(i)\n",
    "    \n",
    "    pareto_optimal_X = X[pareto_optimal_indices]\n",
    "    pareto_optimal_Y = Y[pareto_optimal_indices]\n",
    "    \n",
    "    return pareto_optimal_X, pareto_optimal_Y\n",
    "\n",
    "# Example NumPy arrays\n",
    "X = np.array(y_valid)\n",
    "Y = rf_preds\n",
    "\n",
    "import matplotlib.pyplot as plt\n",
    "\n",
    "# Calculate minimum true value and maximum predicted value\n",
    "min_true = min(y_valid)\n",
    "max_pred = max(rf_preds)\n",
    "\n",
    "# Calculate the point for the Pareto curve\n",
    "parate_y = min_true\n",
    "parate_x = max_pred\n",
    "\n",
    "# Create a scatter plot\n",
    "plt.figure(figsize=(8, 6))\n",
    "plt.scatter(rf_preds, y_valid, color='blue', alpha=0.7, label='Data Points')  # Transposed x and y\n",
    "plt.plot([min_true, max(y_valid)], [min_true, max(y_valid)], color='red', linestyle='--', label='1:1 Line')\n",
    "\n",
    "plt.xlabel('Predicted Value')  # Transposed x and y\n",
    "plt.ylabel('True Value')  # Transposed x and y\n",
    "\n",
    "pareto_optimal_X, pareto_optimal_Y = find_pareto_optimal_numpy(X, Y)\n",
    "pareto_optimal_points = np.column_stack((pareto_optimal_X, pareto_optimal_Y))\n",
    "pareto_optimal_points = pareto_optimal_points[pareto_optimal_points[:,1].argsort()]  # Sort by y values\n",
    "\n",
    "plt.plot(pareto_optimal_points[:,1], pareto_optimal_points[:,0], 'k--', label='worst case')  # Transposed x and y\n",
    "vertical_line_y = 0.3  # Transposed x and y\n",
    "vertical_line_x = 0.63  # Transposed x and y\n",
    "# plt.axhline(y=vertical_line_y, color='y', linestyle='--', label='danger zone')  # Transposed x and y\n",
    "# plt.axvline(x=vertical_line_x, color='c', linestyle='--', label='Bar')  # Transposed x and y\n",
    "\n",
    "plt.legend()  # Add a legend to distinguish lines\n",
    "plt.savefig('rf_result.png')"
   ]
  },
  {
   "cell_type": "code",
   "execution_count": null,
   "id": "e51998ea-9d44-4ab2-93bb-7b389f5624af",
   "metadata": {},
   "outputs": [],
   "source": []
  }
 ],
 "metadata": {
  "kernelspec": {
   "display_name": "hkt",
   "language": "python",
   "name": "hkt"
  },
  "language_info": {
   "codemirror_mode": {
    "name": "ipython",
    "version": 3
   },
   "file_extension": ".py",
   "mimetype": "text/x-python",
   "name": "python",
   "nbconvert_exporter": "python",
   "pygments_lexer": "ipython3",
   "version": "3.9.17"
  }
 },
 "nbformat": 4,
 "nbformat_minor": 5
}
